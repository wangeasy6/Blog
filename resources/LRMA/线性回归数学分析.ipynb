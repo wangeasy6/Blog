{
 "cells": [
  {
   "cell_type": "markdown",
   "id": "9856766f-d0a3-49f7-a678-61b5a1b6db7f",
   "metadata": {},
   "source": [
    "## 带偏置的线性回归模型构造\n",
    "\n",
    "首先，我们人为地造一组由 y = 0.5x + 10 加上一些噪声而生成的数据，数据量一共有200个，其中前160作为train set，后40作为test set。"
   ]
  },
  {
   "cell_type": "code",
   "execution_count": 21,
   "id": "de9c63cc-f166-4968-9fce-755d8af7b301",
   "metadata": {},
   "outputs": [
    {
     "name": "stdout",
     "output_type": "stream",
     "text": [
      "[  0   2   4   6   8  10  12  14  16  18  20  22  24  26  28  30  32  34\n",
      "  36  38  40  42  44  46  48  50  52  54  56  58  60  62  64  66  68  70\n",
      "  72  74  76  78  80  82  84  86  88  90  92  94  96  98 100 102 104 106\n",
      " 108 110 112 114 116 118 120 122 124 126 128 130 132 134 136 138 140 142\n",
      " 144 146 148 150 152 154 156 158 160 162 164 166 168 170 172 174 176 178\n",
      " 180 182 184 186 188 190 192 194 196 198 200 202 204 206 208 210 212 214\n",
      " 216 218 220 222 224 226 228 230 232 234 236 238 240 242 244 246 248 250\n",
      " 252 254 256 258 260 262 264 266 268 270 272 274 276 278 280 282 284 286\n",
      " 288 290 292 294 296 298 300 302 304 306 308 310 312 314 316 318 320 322\n",
      " 324 326 328 330 332 334 336 338 340 342 344 346 348 350 352 354 356 358\n",
      " 360 362 364 366 368 370 372 374 376 378 380 382 384 386 388 390 392 394\n",
      " 396 398]\n"
     ]
    },
    {
     "data": {
      "image/png": "[encoded data removed]",
      "text/plain": [
       "<Figure size 432x288 with 1 Axes>"
      ]
     },
     "metadata": {
      "needs_background": "light"
     },
     "output_type": "display_data"
    },
    {
     "name": "stdout",
     "output_type": "stream",
     "text": [
      "[320 322 324 326 328 330 332 334 336 338 340 342 344 346 348 350 352 354\n",
      " 356 358 360 362 364 366 368 370 372 374 376 378 380 382 384 386 388 390\n",
      " 392 394 396 398] [179. 179. 178. 181. 174. 183. 180. 183. 187. 182. 185. 181. 191. 191.\n",
      " 190. 190. 187. 192. 195. 190. 194. 196. 199. 199. 199. 199. 199. 204.\n",
      " 207. 201. 205. 206. 208. 208. 205. 214. 206. 207. 210. 210.]\n"
     ]
    }
   ],
   "source": [
    "import numpy as np\n",
    "import matplotlib.pyplot as plt\n",
    "\n",
    "X = np.linspace(0, 398, num=200, dtype=int)\n",
    "# print(X)\n",
    "np.random.shuffle(X)\n",
    "Y = 0.5 * X + 10 + np.random.randint(0, 10, size=200, dtype=int)\n",
    "\n",
    "# plot data\n",
    "plt.scatter(X, Y)\n",
    "plt.show()\n",
    "\n",
    "X_train, Y_train = X[:160], Y[:160]     # train first 160 data points\n",
    "X_test, Y_test = X[160:], Y[160:]       # test remaining 40 data points\n",
    "\n",
    "print(X_test, Y_test)"
   ]
  },
  {
   "cell_type": "code",
   "execution_count": null,
   "id": "9dea8fcb-dd67-4314-9f1a-361520f242db",
   "metadata": {},
   "outputs": [],
   "source": []
  }
 ],
 "metadata": {
  "kernelspec": {
   "display_name": "Python 3 (ipykernel)",
   "language": "python",
   "name": "python3"
  },
  "language_info": {
   "codemirror_mode": {
    "name": "ipython",
    "version": 3
   },
   "file_extension": ".py",
   "mimetype": "text/x-python",
   "name": "python",
   "nbconvert_exporter": "python",
   "pygments_lexer": "ipython3",
   "version": "3.8.5"
  }
 },
 "nbformat": 4,
 "nbformat_minor": 5
}
